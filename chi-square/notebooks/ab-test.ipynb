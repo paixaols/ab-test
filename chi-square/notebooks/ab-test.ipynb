{
 "cells": [
  {
   "cell_type": "markdown",
   "id": "3c4d2b46",
   "metadata": {
    "heading_collapsed": true
   },
   "source": [
    "# 1 Planejamento do experimento"
   ]
  },
  {
   "cell_type": "code",
   "execution_count": 1,
   "id": "df372589",
   "metadata": {
    "ExecuteTime": {
     "end_time": "2022-09-23T19:38:51.303785Z",
     "start_time": "2022-09-23T19:38:48.943250Z"
    },
    "hidden": true
   },
   "outputs": [],
   "source": [
    "import numpy as np\n",
    "from statsmodels.stats.power import NormalIndPower"
   ]
  },
  {
   "cell_type": "code",
   "execution_count": 26,
   "id": "e8254210",
   "metadata": {
    "ExecuteTime": {
     "end_time": "2022-08-23T10:51:47.151019Z",
     "start_time": "2022-08-23T10:51:47.131194Z"
    },
    "hidden": true
   },
   "outputs": [],
   "source": [
    "# Níveis de confiança e significância (alpha)\n",
    "confidence_level = 0.95\n",
    "alpha = 1-confidence_level\n",
    "power = 0.8\n",
    "beta = 1-power"
   ]
  },
  {
   "cell_type": "code",
   "execution_count": 27,
   "id": "a91be6d4",
   "metadata": {
    "ExecuteTime": {
     "end_time": "2022-08-23T10:51:50.056102Z",
     "start_time": "2022-08-23T10:51:50.044279Z"
    },
    "hidden": true
   },
   "outputs": [
    {
     "data": {
      "text/plain": [
       "-0.0576728617308947"
      ]
     },
     "execution_count": 27,
     "metadata": {},
     "output_type": "execute_result"
    }
   ],
   "source": [
    "# Taxas de conversão\n",
    "p1 = 0.13\n",
    "p2 = 0.15\n",
    "\n",
    "# Tamanho do efeito: Cohen's h\n",
    "effect_size = 2*(np.arcsin(np.sqrt(p1))-np.arcsin(np.sqrt(p2)))\n",
    "effect_size"
   ]
  },
  {
   "cell_type": "code",
   "execution_count": 28,
   "id": "af6e16c5",
   "metadata": {
    "ExecuteTime": {
     "end_time": "2022-08-23T10:51:54.826511Z",
     "start_time": "2022-08-23T10:51:54.797241Z"
    },
    "hidden": true
   },
   "outputs": [
    {
     "data": {
      "text/plain": [
       "4720"
      ]
     },
     "execution_count": 28,
     "metadata": {},
     "output_type": "execute_result"
    }
   ],
   "source": [
    "sample_size = NormalIndPower().solve_power(\n",
    "    effect_size=effect_size,\n",
    "    alpha=alpha,\n",
    "    power=power\n",
    ")\n",
    "sample_size = int(np.ceil(sample_size))\n",
    "sample_size"
   ]
  },
  {
   "cell_type": "markdown",
   "id": "87663a67",
   "metadata": {
    "heading_collapsed": true
   },
   "source": [
    "# 2 Descrição dos dados"
   ]
  },
  {
   "cell_type": "markdown",
   "id": "9e61c37b",
   "metadata": {
    "heading_collapsed": true,
    "hidden": true
   },
   "source": [
    "## Import"
   ]
  },
  {
   "cell_type": "code",
   "execution_count": 1,
   "id": "40bd3e7b",
   "metadata": {
    "ExecuteTime": {
     "end_time": "2022-08-25T13:51:01.543122Z",
     "start_time": "2022-08-25T13:50:58.575681Z"
    },
    "hidden": true
   },
   "outputs": [],
   "source": [
    "import matplotlib.pyplot as plt\n",
    "import pandas as pd\n",
    "import seaborn as sns\n",
    "\n",
    "from scipy import stats"
   ]
  },
  {
   "cell_type": "code",
   "execution_count": 2,
   "id": "e33c9880",
   "metadata": {
    "ExecuteTime": {
     "end_time": "2022-08-25T13:51:01.558258Z",
     "start_time": "2022-08-25T13:51:01.545959Z"
    },
    "hidden": true
   },
   "outputs": [],
   "source": [
    "%matplotlib inline\n",
    "plt.style.use('bmh')\n",
    "plt.rcParams['figure.figsize'] = [10, 5]\n",
    "plt.rcParams['font.size'] = 16\n",
    "\n",
    "pd.options.display.max_columns = None\n",
    "pd.options.display.max_rows = None"
   ]
  },
  {
   "cell_type": "code",
   "execution_count": 3,
   "id": "3aeebec5",
   "metadata": {
    "ExecuteTime": {
     "end_time": "2022-08-24T12:54:39.027000Z",
     "start_time": "2022-08-24T12:54:38.623007Z"
    },
    "hidden": true
   },
   "outputs": [],
   "source": [
    "df2 = pd.read_csv('../data/raw/ab_data.csv')"
   ]
  },
  {
   "cell_type": "markdown",
   "id": "5c816317",
   "metadata": {
    "heading_collapsed": true,
    "hidden": true
   },
   "source": [
    "## 2.1 Renomear colunas"
   ]
  },
  {
   "cell_type": "code",
   "execution_count": 4,
   "id": "784c1e05",
   "metadata": {
    "ExecuteTime": {
     "end_time": "2022-08-24T12:54:39.043036Z",
     "start_time": "2022-08-24T12:54:39.029011Z"
    },
    "hidden": true
   },
   "outputs": [
    {
     "data": {
      "text/plain": [
       "Index(['user_id', 'timestamp', 'group', 'landing_page', 'converted'], dtype='object')"
      ]
     },
     "execution_count": 4,
     "metadata": {},
     "output_type": "execute_result"
    }
   ],
   "source": [
    "df2.columns"
   ]
  },
  {
   "cell_type": "markdown",
   "id": "e48db471",
   "metadata": {
    "heading_collapsed": true,
    "hidden": true
   },
   "source": [
    "## 2.2 Dimensão dos dados"
   ]
  },
  {
   "cell_type": "code",
   "execution_count": 5,
   "id": "e1b60b82",
   "metadata": {
    "ExecuteTime": {
     "end_time": "2022-08-24T12:54:39.058261Z",
     "start_time": "2022-08-24T12:54:39.044417Z"
    },
    "hidden": true
   },
   "outputs": [
    {
     "name": "stdout",
     "output_type": "stream",
     "text": [
      "Número de linhas:  294478\n",
      "Número de colunas:  5\n"
     ]
    }
   ],
   "source": [
    "print('Número de linhas: ', df2.shape[0])\n",
    "print('Número de colunas: ', df2.shape[1])"
   ]
  },
  {
   "cell_type": "markdown",
   "id": "b97101ff",
   "metadata": {
    "heading_collapsed": true,
    "hidden": true
   },
   "source": [
    "## 2.3 Tratar os NAs"
   ]
  },
  {
   "cell_type": "code",
   "execution_count": 6,
   "id": "70e2b383",
   "metadata": {
    "ExecuteTime": {
     "end_time": "2022-08-24T12:54:39.232122Z",
     "start_time": "2022-08-24T12:54:39.060649Z"
    },
    "hidden": true
   },
   "outputs": [
    {
     "data": {
      "text/plain": [
       "user_id         0\n",
       "timestamp       0\n",
       "group           0\n",
       "landing_page    0\n",
       "converted       0\n",
       "dtype: int64"
      ]
     },
     "execution_count": 6,
     "metadata": {},
     "output_type": "execute_result"
    }
   ],
   "source": [
    "df2.isna().sum()"
   ]
  },
  {
   "cell_type": "markdown",
   "id": "6917f82c",
   "metadata": {
    "heading_collapsed": true,
    "hidden": true
   },
   "source": [
    "## 2.4 Tipo dos dados"
   ]
  },
  {
   "cell_type": "code",
   "execution_count": 7,
   "id": "4e8cff81",
   "metadata": {
    "ExecuteTime": {
     "end_time": "2022-08-24T12:54:39.579591Z",
     "start_time": "2022-08-24T12:54:39.234554Z"
    },
    "hidden": true
   },
   "outputs": [],
   "source": [
    "df2['timestamp'] = pd.to_datetime(df2['timestamp'], format='%Y-%m-%d %H:%M:%S')"
   ]
  },
  {
   "cell_type": "code",
   "execution_count": 8,
   "id": "3ae1814c",
   "metadata": {
    "ExecuteTime": {
     "end_time": "2022-08-24T12:54:39.594862Z",
     "start_time": "2022-08-24T12:54:39.581145Z"
    },
    "hidden": true
   },
   "outputs": [
    {
     "data": {
      "text/plain": [
       "user_id                  int64\n",
       "timestamp       datetime64[ns]\n",
       "group                   object\n",
       "landing_page            object\n",
       "converted                int64\n",
       "dtype: object"
      ]
     },
     "execution_count": 8,
     "metadata": {},
     "output_type": "execute_result"
    }
   ],
   "source": [
    "df2.dtypes"
   ]
  },
  {
   "cell_type": "markdown",
   "id": "2bd7bbd7",
   "metadata": {
    "heading_collapsed": true
   },
   "source": [
    "# 3 Preparação dos dados"
   ]
  },
  {
   "cell_type": "code",
   "execution_count": 9,
   "id": "14716ac3",
   "metadata": {
    "ExecuteTime": {
     "end_time": "2022-08-24T12:54:39.610565Z",
     "start_time": "2022-08-24T12:54:39.596784Z"
    },
    "hidden": true
   },
   "outputs": [],
   "source": [
    "df3 = df2.copy()"
   ]
  },
  {
   "cell_type": "markdown",
   "id": "35f7103a",
   "metadata": {
    "heading_collapsed": true,
    "hidden": true
   },
   "source": [
    "## 3.1 Usuários com flags erradas"
   ]
  },
  {
   "cell_type": "code",
   "execution_count": 10,
   "id": "4bca4e22",
   "metadata": {
    "ExecuteTime": {
     "end_time": "2022-08-24T12:54:39.892573Z",
     "start_time": "2022-08-24T12:54:39.615384Z"
    },
    "hidden": true
   },
   "outputs": [
    {
     "data": {
      "text/html": [
       "<div>\n",
       "<style scoped>\n",
       "    .dataframe tbody tr th:only-of-type {\n",
       "        vertical-align: middle;\n",
       "    }\n",
       "\n",
       "    .dataframe tbody tr th {\n",
       "        vertical-align: top;\n",
       "    }\n",
       "\n",
       "    .dataframe thead th {\n",
       "        text-align: right;\n",
       "    }\n",
       "</style>\n",
       "<table border=\"1\" class=\"dataframe\">\n",
       "  <thead>\n",
       "    <tr style=\"text-align: right;\">\n",
       "      <th></th>\n",
       "      <th>user_id</th>\n",
       "      <th>landing_page</th>\n",
       "    </tr>\n",
       "  </thead>\n",
       "  <tbody>\n",
       "    <tr>\n",
       "      <th>57236</th>\n",
       "      <td>692249</td>\n",
       "      <td>2</td>\n",
       "    </tr>\n",
       "    <tr>\n",
       "      <th>256285</th>\n",
       "      <td>908753</td>\n",
       "      <td>2</td>\n",
       "    </tr>\n",
       "    <tr>\n",
       "      <th>197289</th>\n",
       "      <td>844575</td>\n",
       "      <td>2</td>\n",
       "    </tr>\n",
       "    <tr>\n",
       "      <th>39756</th>\n",
       "      <td>673239</td>\n",
       "      <td>2</td>\n",
       "    </tr>\n",
       "    <tr>\n",
       "      <th>120359</th>\n",
       "      <td>760840</td>\n",
       "      <td>2</td>\n",
       "    </tr>\n",
       "  </tbody>\n",
       "</table>\n",
       "</div>"
      ],
      "text/plain": [
       "        user_id  landing_page\n",
       "57236    692249             2\n",
       "256285   908753             2\n",
       "197289   844575             2\n",
       "39756    673239             2\n",
       "120359   760840             2"
      ]
     },
     "execution_count": 10,
     "metadata": {},
     "output_type": "execute_result"
    }
   ],
   "source": [
    "aux = df3[['user_id','landing_page']].groupby('user_id').nunique().reset_index()\n",
    "aux.sort_values('landing_page', ascending=False, inplace=True)\n",
    "aux.head()"
   ]
  },
  {
   "cell_type": "code",
   "execution_count": 11,
   "id": "8010a59e",
   "metadata": {
    "ExecuteTime": {
     "end_time": "2022-08-24T12:54:39.908228Z",
     "start_time": "2022-08-24T12:54:39.894741Z"
    },
    "hidden": true
   },
   "outputs": [
    {
     "name": "stdout",
     "output_type": "stream",
     "text": [
      "1998 usuários visitaram ambas as páginas\n"
     ]
    }
   ],
   "source": [
    "bad_users = aux.loc[aux['landing_page'] > 1, 'user_id'].to_list()\n",
    "print(f'{len(bad_users)} usuários visitaram ambas as páginas')"
   ]
  },
  {
   "cell_type": "code",
   "execution_count": 12,
   "id": "3badb80f",
   "metadata": {
    "ExecuteTime": {
     "end_time": "2022-08-24T12:54:40.667804Z",
     "start_time": "2022-08-24T12:54:40.623354Z"
    },
    "hidden": true
   },
   "outputs": [],
   "source": [
    "df3.drop(df3[df3['user_id'].isin(bad_users)].index, inplace=True)"
   ]
  },
  {
   "cell_type": "code",
   "execution_count": 13,
   "id": "1fafa52b",
   "metadata": {
    "ExecuteTime": {
     "end_time": "2022-08-24T12:54:41.656305Z",
     "start_time": "2022-08-24T12:54:41.568709Z"
    },
    "hidden": true
   },
   "outputs": [
    {
     "data": {
      "text/html": [
       "<div>\n",
       "<style scoped>\n",
       "    .dataframe tbody tr th:only-of-type {\n",
       "        vertical-align: middle;\n",
       "    }\n",
       "\n",
       "    .dataframe tbody tr th {\n",
       "        vertical-align: top;\n",
       "    }\n",
       "\n",
       "    .dataframe thead th {\n",
       "        text-align: right;\n",
       "    }\n",
       "</style>\n",
       "<table border=\"1\" class=\"dataframe\">\n",
       "  <thead>\n",
       "    <tr style=\"text-align: right;\">\n",
       "      <th>landing_page</th>\n",
       "      <th>new_page</th>\n",
       "      <th>old_page</th>\n",
       "    </tr>\n",
       "    <tr>\n",
       "      <th>group</th>\n",
       "      <th></th>\n",
       "      <th></th>\n",
       "    </tr>\n",
       "  </thead>\n",
       "  <tbody>\n",
       "    <tr>\n",
       "      <th>control</th>\n",
       "      <td>921</td>\n",
       "      <td>144267</td>\n",
       "    </tr>\n",
       "    <tr>\n",
       "      <th>treatment</th>\n",
       "      <td>144320</td>\n",
       "      <td>974</td>\n",
       "    </tr>\n",
       "  </tbody>\n",
       "</table>\n",
       "</div>"
      ],
      "text/plain": [
       "landing_page  new_page  old_page\n",
       "group                           \n",
       "control            921    144267\n",
       "treatment       144320       974"
      ]
     },
     "execution_count": 13,
     "metadata": {},
     "output_type": "execute_result"
    }
   ],
   "source": [
    "aux = df3[['user_id', 'group', 'landing_page']].groupby(['group', 'landing_page']).count().reset_index()\n",
    "aux.pivot(index='group', columns='landing_page', values='user_id')"
   ]
  },
  {
   "cell_type": "code",
   "execution_count": 14,
   "id": "fc1dabe0",
   "metadata": {
    "ExecuteTime": {
     "end_time": "2022-08-24T12:54:42.273866Z",
     "start_time": "2022-08-24T12:54:42.110390Z"
    },
    "hidden": true
   },
   "outputs": [],
   "source": [
    "df3.drop(df3[(df3['group'] == 'control') & (df3['landing_page'] == 'new_page')].index, inplace=True)\n",
    "df3.drop(df3[(df3['group'] == 'treatment') & (df3['landing_page'] == 'old_page')].index, inplace=True)"
   ]
  },
  {
   "cell_type": "code",
   "execution_count": 15,
   "id": "53c30406",
   "metadata": {
    "ExecuteTime": {
     "end_time": "2022-08-24T12:54:42.739934Z",
     "start_time": "2022-08-24T12:54:42.640276Z"
    },
    "hidden": true
   },
   "outputs": [
    {
     "data": {
      "text/html": [
       "<div>\n",
       "<style scoped>\n",
       "    .dataframe tbody tr th:only-of-type {\n",
       "        vertical-align: middle;\n",
       "    }\n",
       "\n",
       "    .dataframe tbody tr th {\n",
       "        vertical-align: top;\n",
       "    }\n",
       "\n",
       "    .dataframe thead th {\n",
       "        text-align: right;\n",
       "    }\n",
       "</style>\n",
       "<table border=\"1\" class=\"dataframe\">\n",
       "  <thead>\n",
       "    <tr style=\"text-align: right;\">\n",
       "      <th>landing_page</th>\n",
       "      <th>new_page</th>\n",
       "      <th>old_page</th>\n",
       "    </tr>\n",
       "    <tr>\n",
       "      <th>group</th>\n",
       "      <th></th>\n",
       "      <th></th>\n",
       "    </tr>\n",
       "  </thead>\n",
       "  <tbody>\n",
       "    <tr>\n",
       "      <th>control</th>\n",
       "      <td>NaN</td>\n",
       "      <td>144267.0</td>\n",
       "    </tr>\n",
       "    <tr>\n",
       "      <th>treatment</th>\n",
       "      <td>144320.0</td>\n",
       "      <td>NaN</td>\n",
       "    </tr>\n",
       "  </tbody>\n",
       "</table>\n",
       "</div>"
      ],
      "text/plain": [
       "landing_page  new_page  old_page\n",
       "group                           \n",
       "control            NaN  144267.0\n",
       "treatment     144320.0       NaN"
      ]
     },
     "execution_count": 15,
     "metadata": {},
     "output_type": "execute_result"
    }
   ],
   "source": [
    "aux = df3[['user_id', 'group', 'landing_page']].groupby(['group', 'landing_page']).count().reset_index()\n",
    "aux.pivot(index='group', columns='landing_page', values='user_id')"
   ]
  },
  {
   "cell_type": "code",
   "execution_count": 16,
   "id": "0c35bf03",
   "metadata": {
    "ExecuteTime": {
     "end_time": "2022-08-24T12:54:43.290304Z",
     "start_time": "2022-08-24T12:54:43.280602Z"
    },
    "hidden": true
   },
   "outputs": [
    {
     "name": "stdout",
     "output_type": "stream",
     "text": [
      "2.0% dos dados excluídos\n"
     ]
    }
   ],
   "source": [
    "x = (1-df3.shape[0]/df2.shape[0])*100\n",
    "print('{:.1f}% dos dados excluídos'.format(x))"
   ]
  },
  {
   "cell_type": "markdown",
   "id": "741d841d",
   "metadata": {
    "heading_collapsed": true,
    "hidden": true
   },
   "source": [
    "## 3.2 Tamanho dos grupos"
   ]
  },
  {
   "cell_type": "code",
   "execution_count": 17,
   "id": "e3260541",
   "metadata": {
    "ExecuteTime": {
     "end_time": "2022-08-24T12:55:03.071523Z",
     "start_time": "2022-08-24T12:55:00.742317Z"
    },
    "hidden": true
   },
   "outputs": [
    {
     "data": {
      "text/plain": [
       "treatment    0.500092\n",
       "control      0.499908\n",
       "Name: group, dtype: float64"
      ]
     },
     "execution_count": 17,
     "metadata": {},
     "output_type": "execute_result"
    },
    {
     "data": {
      "image/png": "[encoded data removed]",
      "text/plain": [
       "<Figure size 720x360 with 1 Axes>"
      ]
     },
     "metadata": {
      "needs_background": "light"
     },
     "output_type": "display_data"
    }
   ],
   "source": [
    "sns.countplot(data=df3, x='group')\n",
    "df3['group'].value_counts(normalize=True)"
   ]
  },
  {
   "cell_type": "markdown",
   "id": "1d1ec4ff",
   "metadata": {
    "heading_collapsed": true
   },
   "source": [
    "# 4 Avaliação dos dados"
   ]
  },
  {
   "cell_type": "code",
   "execution_count": 18,
   "id": "c76af677",
   "metadata": {
    "ExecuteTime": {
     "end_time": "2022-08-24T13:05:49.698455Z",
     "start_time": "2022-08-24T13:05:49.683103Z"
    },
    "hidden": true
   },
   "outputs": [],
   "source": [
    "df4 = df3.copy()"
   ]
  },
  {
   "cell_type": "markdown",
   "id": "e8fb4412",
   "metadata": {
    "heading_collapsed": true,
    "hidden": true
   },
   "source": [
    "## 4.1 Hipóteses"
   ]
  },
  {
   "cell_type": "markdown",
   "id": "bc667462",
   "metadata": {
    "hidden": true
   },
   "source": [
    "- H0: os grupos controle e tratamento possuem a mesma taxa de conversão.\n",
    "- H1: os grupos controle e tratamento possuem taxas de conversão diferentes."
   ]
  },
  {
   "cell_type": "markdown",
   "id": "511763c4",
   "metadata": {
    "heading_collapsed": true,
    "hidden": true
   },
   "source": [
    "## 4.2 Parâmetros do experimento"
   ]
  },
  {
   "cell_type": "code",
   "execution_count": 19,
   "id": "a4cf6ebe",
   "metadata": {
    "ExecuteTime": {
     "end_time": "2022-08-24T13:05:53.761860Z",
     "start_time": "2022-08-24T13:05:53.752349Z"
    },
    "hidden": true
   },
   "outputs": [],
   "source": [
    "alpha = 0.05"
   ]
  },
  {
   "cell_type": "markdown",
   "id": "33cef4cc",
   "metadata": {
    "heading_collapsed": true,
    "hidden": true
   },
   "source": [
    "## 4.3 Amostragem"
   ]
  },
  {
   "cell_type": "code",
   "execution_count": 20,
   "id": "2c3b2c7d",
   "metadata": {
    "ExecuteTime": {
     "end_time": "2022-08-24T13:06:03.468623Z",
     "start_time": "2022-08-24T13:06:03.457547Z"
    },
    "hidden": true
   },
   "outputs": [],
   "source": [
    "sample_size = 4720"
   ]
  },
  {
   "cell_type": "code",
   "execution_count": 21,
   "id": "a3173cb1",
   "metadata": {
    "ExecuteTime": {
     "end_time": "2022-08-24T13:06:03.717123Z",
     "start_time": "2022-08-24T13:06:03.616816Z"
    },
    "hidden": true
   },
   "outputs": [],
   "source": [
    "df_control = df4[df4['group'] == 'control'].sample(sample_size, random_state=73)\n",
    "df_treatment = df4[df4['group'] == 'treatment'].sample(sample_size, random_state=73)"
   ]
  },
  {
   "cell_type": "code",
   "execution_count": 22,
   "id": "9f9d7c3f",
   "metadata": {
    "ExecuteTime": {
     "end_time": "2022-08-24T13:06:08.258467Z",
     "start_time": "2022-08-24T13:06:08.247139Z"
    },
    "hidden": true
   },
   "outputs": [],
   "source": [
    "df_sample = pd.concat([df_control, df_treatment])"
   ]
  },
  {
   "cell_type": "code",
   "execution_count": 23,
   "id": "04f62f53",
   "metadata": {
    "ExecuteTime": {
     "end_time": "2022-08-24T13:06:12.281665Z",
     "start_time": "2022-08-24T13:06:12.247236Z"
    },
    "hidden": true
   },
   "outputs": [
    {
     "data": {
      "text/html": [
       "<div>\n",
       "<style scoped>\n",
       "    .dataframe tbody tr th:only-of-type {\n",
       "        vertical-align: middle;\n",
       "    }\n",
       "\n",
       "    .dataframe tbody tr th {\n",
       "        vertical-align: top;\n",
       "    }\n",
       "\n",
       "    .dataframe thead th {\n",
       "        text-align: right;\n",
       "    }\n",
       "</style>\n",
       "<table border=\"1\" class=\"dataframe\">\n",
       "  <thead>\n",
       "    <tr style=\"text-align: right;\">\n",
       "      <th>converted</th>\n",
       "      <th>0</th>\n",
       "      <th>1</th>\n",
       "    </tr>\n",
       "    <tr>\n",
       "      <th>group</th>\n",
       "      <th></th>\n",
       "      <th></th>\n",
       "    </tr>\n",
       "  </thead>\n",
       "  <tbody>\n",
       "    <tr>\n",
       "      <th>control</th>\n",
       "      <td>4177</td>\n",
       "      <td>543</td>\n",
       "    </tr>\n",
       "    <tr>\n",
       "      <th>treatment</th>\n",
       "      <td>4171</td>\n",
       "      <td>549</td>\n",
       "    </tr>\n",
       "  </tbody>\n",
       "</table>\n",
       "</div>"
      ],
      "text/plain": [
       "converted     0    1\n",
       "group               \n",
       "control    4177  543\n",
       "treatment  4171  549"
      ]
     },
     "execution_count": 23,
     "metadata": {},
     "output_type": "execute_result"
    }
   ],
   "source": [
    "aux = df_sample[['user_id', 'group', 'converted']].groupby(['group', 'converted']).count().reset_index()\n",
    "df_contingency = aux.pivot(index='group', columns='converted', values='user_id')\n",
    "df_contingency"
   ]
  },
  {
   "cell_type": "markdown",
   "id": "eeeed4ec",
   "metadata": {
    "heading_collapsed": true,
    "hidden": true
   },
   "source": [
    "## 4.4 Taxas de conversão"
   ]
  },
  {
   "cell_type": "code",
   "execution_count": 24,
   "id": "05dc1e08",
   "metadata": {
    "ExecuteTime": {
     "end_time": "2022-08-24T13:06:19.393590Z",
     "start_time": "2022-08-24T13:06:19.385591Z"
    },
    "hidden": true
   },
   "outputs": [
    {
     "name": "stdout",
     "output_type": "stream",
     "text": [
      "Conversão do grupo controle: 11.50%\n"
     ]
    }
   ],
   "source": [
    "conv_rate_control = df_control['converted'].mean()\n",
    "print('Conversão do grupo controle: {:.2f}%'.format(100*conv_rate_control))"
   ]
  },
  {
   "cell_type": "code",
   "execution_count": 25,
   "id": "74eeeff6",
   "metadata": {
    "ExecuteTime": {
     "end_time": "2022-08-24T13:06:20.361646Z",
     "start_time": "2022-08-24T13:06:20.353227Z"
    },
    "hidden": true
   },
   "outputs": [
    {
     "name": "stdout",
     "output_type": "stream",
     "text": [
      "Conversão do grupo tratamento: 11.63%\n"
     ]
    }
   ],
   "source": [
    "conv_rate_treatment = df_treatment['converted'].mean()\n",
    "print('Conversão do grupo tratamento: {:.2f}%'.format(100*conv_rate_treatment))"
   ]
  },
  {
   "cell_type": "markdown",
   "id": "2690c422",
   "metadata": {
    "heading_collapsed": true,
    "hidden": true
   },
   "source": [
    "## 4.5 Teste de hipóteses"
   ]
  },
  {
   "cell_type": "code",
   "execution_count": 26,
   "id": "bd4d0f0b",
   "metadata": {
    "ExecuteTime": {
     "end_time": "2022-08-24T13:06:23.089112Z",
     "start_time": "2022-08-24T13:06:23.062449Z"
    },
    "hidden": true
   },
   "outputs": [
    {
     "name": "stdout",
     "output_type": "stream",
     "text": [
      "p-valor: 0.8721729157372394\n",
      "Falha em rejeitar hipótese nula.\n"
     ]
    }
   ],
   "source": [
    "chi2, pvalue, dof, expected = stats.chi2_contingency(df_contingency)\n",
    "\n",
    "print(f'p-valor: {pvalue}')\n",
    "if pvalue <= alpha:\n",
    "    print('Rejeitar hipótese nula.')\n",
    "else:\n",
    "    print('Falha em rejeitar hipótese nula.')"
   ]
  },
  {
   "cell_type": "code",
   "execution_count": null,
   "id": "182a5086",
   "metadata": {
    "hidden": true
   },
   "outputs": [],
   "source": []
  }
 ],
 "metadata": {
  "kernelspec": {
   "display_name": "Python 3 (ipykernel)",
   "language": "python",
   "name": "python3"
  },
  "language_info": {
   "codemirror_mode": {
    "name": "ipython",
    "version": 3
   },
   "file_extension": ".py",
   "mimetype": "text/x-python",
   "name": "python",
   "nbconvert_exporter": "python",
   "pygments_lexer": "ipython3",
   "version": "3.9.12"
  }
 },
 "nbformat": 4,
 "nbformat_minor": 5
}
